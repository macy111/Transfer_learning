{
 "cells": [
  {
   "cell_type": "markdown",
   "metadata": {},
   "source": [
    "##  迁移学习 (keras)\n",
    "\n",
    "- 从哪里迁移？\n",
    "    - 源网络：keras内置的基于imageNet数据集训练好的[网络](https://keras.io/applications/) (包括Xception,VGG16,VGG19,ResNet50,InceptionV3等等)\n",
    "- 迁移到哪里？\n",
    "    - 目标数据集：cifar10\n",
    "- 怎么迁移？\n",
    "    - 去除源网络最后一层（原来的1000个类别的输出层）\n",
    "    - 加上神经元个数为10的输出层（cifar10有10个类别）\n",
    "    - 加载前面所有层的源网络上训练好的权重\n",
    "    - 随机初始化最后一层权重\n",
    "    - 训练最后一层\n",
    " "
   ]
  },
  {
   "cell_type": "code",
   "execution_count": 11,
   "metadata": {},
   "outputs": [],
   "source": [
    "import keras\n",
    "from keras.applications.resnet50 import ResNet50\n",
    "import keras.datasets.cifar10 as cifar10\n",
    "from keras.layers import Conv2D, MaxPooling2D, GlobalAveragePooling2D\n",
    "from keras.layers import Dropout, Flatten, Dense\n",
    "from keras.models import Sequential,Model\n",
    "from keras.utils import np_utils\n",
    "from keras.preprocessing.image import ImageDataGenerator\n",
    "from keras.preprocessing import image\n",
    "import numpy as np\n",
    "import os\n",
    "#os.environ[\"CUDA_DEVICE_ORDER\"] = \"PCI_BUS_ID\"\n",
    "#os.environ[\"CUDA_VISIBLE_DEVICES\"] = \"0\"\n"
   ]
  },
  {
   "cell_type": "markdown",
   "metadata": {},
   "source": [
    "### 加载 cifar10 数据集\n",
    "首次加载时会自动从网络自动下载该数据集，非首次加载时会自动从本地读取"
   ]
  },
  {
   "cell_type": "code",
   "execution_count": 2,
   "metadata": {},
   "outputs": [],
   "source": [
    "(x_train, y_train), (x_test, y_test) = cifar10.load_data()\n"
   ]
  },
  {
   "cell_type": "markdown",
   "metadata": {},
   "source": [
    "- 训练数据集一共有50000张图片\n",
    "- 测试数据集一共有10000张图片\n",
    "- 图片大小 32 * 32 * 3 "
   ]
  },
  {
   "cell_type": "code",
   "execution_count": 3,
   "metadata": {},
   "outputs": [
    {
     "name": "stdout",
     "output_type": "stream",
     "text": [
      "(50000, 32, 32, 3)\n",
      "(10000, 32, 32, 3)\n"
     ]
    }
   ],
   "source": [
    "print(x_train.shape)\n",
    "print(x_test.shape)"
   ]
  },
  {
   "cell_type": "markdown",
   "metadata": {},
   "source": [
    "### 设置模型相关参数"
   ]
  },
  {
   "cell_type": "code",
   "execution_count": null,
   "metadata": {},
   "outputs": [],
   "source": [
    "category_num = 10\n",
    "epochs = 10\n",
    "batch_size = 256"
   ]
  },
  {
   "cell_type": "markdown",
   "metadata": {},
   "source": [
    "### one-hot 编码"
   ]
  },
  {
   "cell_type": "code",
   "execution_count": 4,
   "metadata": {},
   "outputs": [],
   "source": [
    "y_train = np_utils.to_categorical(y_train, category_num)\n",
    "y_test = np_utils.to_categorical(y_test, category_num)"
   ]
  },
  {
   "cell_type": "markdown",
   "metadata": {},
   "source": [
    "### 定义图片进行resize预处理方法和产生一个batch数据的方法"
   ]
  },
  {
   "cell_type": "code",
   "execution_count": null,
   "metadata": {},
   "outputs": [],
   "source": [
    "def preprocess(img, target_size):\n",
    "    img = image.array_to_img(img, scale=False)\n",
    "    img = img.resize(target_size)\n",
    "    img = image.img_to_array(img)\n",
    "    return img\n",
    "\n",
    "def my_generator(X, Y, batch_size=32, target_size=(224,224)):\n",
    "    indexs = list(range(X.shape[0]))\n",
    "    while True:\n",
    "        np.random.shuffle(indexs)\n",
    "        for i in range(0, len(indexs), batch_size):\n",
    "            ge_batch_x = [preprocess(img,target_size) for img in X[i:i+batch_size]]\n",
    "            ge_batch_y = Y[i:i+batch_size]\n",
    "            ge_batch_x = np.array(ge_batch_x)\n",
    "            ge_batch_y = np.array(ge_batch_y)\n",
    "            yield ge_batch_x, ge_batch_y"
   ]
  },
  {
   "cell_type": "markdown",
   "metadata": {},
   "source": [
    "### 创建网络"
   ]
  },
  {
   "cell_type": "code",
   "execution_count": 5,
   "metadata": {},
   "outputs": [],
   "source": [
    "base_model = ResNet50(weights='imagenet', include_top=False)\n",
    "x = base_model.output\n",
    "x = GlobalAveragePooling2D()(x)\n",
    "predictions = Dense(category_num, activation='softmax')(x)\n",
    "model = Model(inputs=base_model.input, outputs=predictions)"
   ]
  },
  {
   "cell_type": "markdown",
   "metadata": {},
   "source": [
    "### 冻结原始网络层的全部权重不做训练"
   ]
  },
  {
   "cell_type": "code",
   "execution_count": 6,
   "metadata": {},
   "outputs": [],
   "source": [
    "for layer in base_model.layers:\n",
    "    layer.trainable = False"
   ]
  },
  {
   "cell_type": "markdown",
   "metadata": {},
   "source": [
    "### 训练网络"
   ]
  },
  {
   "cell_type": "code",
   "execution_count": 18,
   "metadata": {},
   "outputs": [
    {
     "name": "stdout",
     "output_type": "stream",
     "text": [
      "Epoch 1/10\n",
      "196/195 [==============================] - 234s 1s/step - loss: 1.2684 - acc: 0.5968 - val_loss: 1.0591 - val_acc: 0.6608\n",
      "Epoch 2/10\n",
      "196/195 [==============================] - 234s 1s/step - loss: 0.9555 - acc: 0.6905 - val_loss: 0.8857 - val_acc: 0.7049\n",
      "Epoch 3/10\n",
      "196/195 [==============================] - 234s 1s/step - loss: 0.8378 - acc: 0.7231 - val_loss: 0.8100 - val_acc: 0.7282\n",
      "Epoch 4/10\n",
      "196/195 [==============================] - 234s 1s/step - loss: 0.7730 - acc: 0.7434 - val_loss: 0.7638 - val_acc: 0.7412\n",
      "Epoch 5/10\n",
      "196/195 [==============================] - 235s 1s/step - loss: 0.7302 - acc: 0.7573 - val_loss: 0.7320 - val_acc: 0.7522\n",
      "Epoch 6/10\n",
      "196/195 [==============================] - 235s 1s/step - loss: 0.6988 - acc: 0.7665 - val_loss: 0.7085 - val_acc: 0.7592\n",
      "Epoch 7/10\n",
      "196/195 [==============================] - 235s 1s/step - loss: 0.6744 - acc: 0.7745 - val_loss: 0.6901 - val_acc: 0.7651\n",
      "Epoch 8/10\n",
      "196/195 [==============================] - 235s 1s/step - loss: 0.6545 - acc: 0.7807 - val_loss: 0.6752 - val_acc: 0.7702\n",
      "Epoch 9/10\n",
      "196/195 [==============================] - 235s 1s/step - loss: 0.6378 - acc: 0.7852 - val_loss: 0.6628 - val_acc: 0.7729\n",
      "Epoch 10/10\n",
      "196/195 [==============================] - 235s 1s/step - loss: 0.6234 - acc: 0.7902 - val_loss: 0.6523 - val_acc: 0.7767\n"
     ]
    },
    {
     "data": {
      "text/plain": [
       "<keras.callbacks.History at 0x7f1a6852a828>"
      ]
     },
     "execution_count": 18,
     "metadata": {},
     "output_type": "execute_result"
    }
   ],
   "source": [
    "model.compile(loss='categorical_crossentropy', optimizer=keras.optimizers.RMSprop(lr=0.0001), metrics=['accuracy'])\n",
    "model.fit_generator(\n",
    "        my_generator(x_train, y_train, batch_size=batch_size, target_size=(224,224)),\n",
    "        steps_per_epoch=len(x_train)/batch_size,\n",
    "        epochs=epochs,\n",
    "        validation_data=my_generator(x_test, y_test, batch_size=batch_size, target_size=(224,224)),\n",
    "        validation_steps=len(x_test)/batch_size,\n",
    "        verbose=1)"
   ]
  }
 ],
 "metadata": {
  "kernelspec": {
   "display_name": "Python [conda env:tensorflowGpu]",
   "language": "python",
   "name": "conda-env-tensorflowGpu-py"
  },
  "language_info": {
   "codemirror_mode": {
    "name": "ipython",
    "version": 3
   },
   "file_extension": ".py",
   "mimetype": "text/x-python",
   "name": "python",
   "nbconvert_exporter": "python",
   "pygments_lexer": "ipython3",
   "version": "3.5.4"
  }
 },
 "nbformat": 4,
 "nbformat_minor": 2
}
